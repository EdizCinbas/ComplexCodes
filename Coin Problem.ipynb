{
 "cells": [
  {
   "cell_type": "markdown",
   "metadata": {},
   "source": [
    "## Coin Problem\n",
    "Given an array of integer numbers that represent the values of each coin, and given a target amount, determine the minimum number of coins needed to create this amount. At first, try to solve this problem with regular coins (i.e., 1,5,10,20,50), then try with different irregular coin values (e.g., 1,7,12, 38).\n",
    "\n",
    "Example 1\n",
    "Given coin values (1, 2, 5,10,20,50), with \n",
    "Target amount = 7; solution = 2 coins (5,2)\n",
    "Target amount = 150; solution = 3 coins (50,50,50)\n",
    "Target amount = 28; solution = 4 coins (20,5,2,1)\n",
    " \n",
    "Example 2\n",
    "Given coin values (1,4,6), with:\n",
    "Target amount = 7; solution = 2 coins (6,1)\n",
    "Target amount = 9; solution = 3 coins (4,4,1)\n",
    " \n",
    "Only the number of coins is required, the coins used are not important for this exercise.\n"
   ]
  },
  {
   "cell_type": "code",
   "execution_count": 1,
   "metadata": {},
   "outputs": [
    {
     "name": "stdout",
     "output_type": "stream",
     "text": [
      "18\n"
     ]
    }
   ],
   "source": [
    "# Coin problem\n",
    "\n",
    "coin_values = [1,3,7]\n",
    "target = 120\n",
    "\n",
    "def solve(target, coin_values, n):\n",
    "    if n == 0:\n",
    "        if target % coin_values[0] == 0:\n",
    "            return target // coin_values[0]\n",
    "        return -1\n",
    "    if target < 0:\n",
    "        return float('inf')\n",
    "    return min (solve(target - coin_values[n], coin_values, n) + 1, solve(target, coin_values, n-1))\n",
    "\n",
    "print (solve(target, coin_values, len(coin_values) - 1))"
   ]
  }
 ],
 "metadata": {
  "kernelspec": {
   "display_name": "Python 3",
   "language": "python",
   "name": "python3"
  },
  "language_info": {
   "codemirror_mode": {
    "name": "ipython",
    "version": 3
   },
   "file_extension": ".py",
   "mimetype": "text/x-python",
   "name": "python",
   "nbconvert_exporter": "python",
   "pygments_lexer": "ipython3",
   "version": "3.11.6"
  }
 },
 "nbformat": 4,
 "nbformat_minor": 2
}
